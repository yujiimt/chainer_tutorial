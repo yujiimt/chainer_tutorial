{
  "nbformat": 4,
  "nbformat_minor": 0,
  "metadata": {
    "colab": {
      "name": "chainer_tutorial2.ipynb",
      "version": "0.3.2",
      "provenance": [],
      "collapsed_sections": [],
      "include_colab_link": true
    },
    "kernelspec": {
      "name": "python3",
      "display_name": "Python 3"
    },
    "accelerator": "GPU"
  },
  "cells": [
    {
      "cell_type": "markdown",
      "metadata": {
        "id": "view-in-github",
        "colab_type": "text"
      },
      "source": [
        "<a href=\"https://colab.research.google.com/github/yujiimt/chainer_tutorial/blob/master/chainer_tutorial/chainer_tutorial2.ipynb\" target=\"_parent\"><img src=\"https://colab.research.google.com/assets/colab-badge.svg\" alt=\"Open In Colab\"/></a>"
      ]
    },
    {
      "cell_type": "code",
      "metadata": {
        "id": "fnfQ-sABEIDE",
        "colab_type": "code",
        "colab": {}
      },
      "source": [
        "from sklearn.datasets import load_iris\n",
        "from sklearn.model_selection import train_test_split\n",
        "\n",
        "\n",
        "x, t = load_iris(return_X_y=True)\n",
        "x = x.astype('float32')\n",
        "t = t.astype('int32')"
      ],
      "execution_count": 0,
      "outputs": []
    },
    {
      "cell_type": "code",
      "metadata": {
        "id": "JY_qFBddFVVv",
        "colab_type": "code",
        "colab": {}
      },
      "source": [
        "from chainer.datasets import TupleDataset\n",
        "\n",
        "dataset = TupleDataset(x, t)"
      ],
      "execution_count": 0,
      "outputs": []
    },
    {
      "cell_type": "code",
      "metadata": {
        "id": "KM3Q8bWwGCyB",
        "colab_type": "code",
        "outputId": "6c93fe40-2bae-49bb-eb32-79752350dfff",
        "colab": {
          "base_uri": "https://localhost:8080/",
          "height": 34
        }
      },
      "source": [
        "dataset[0]"
      ],
      "execution_count": 21,
      "outputs": [
        {
          "output_type": "execute_result",
          "data": {
            "text/plain": [
              "(array([5.1, 3.5, 1.4, 0.2], dtype=float32), 0)"
            ]
          },
          "metadata": {
            "tags": []
          },
          "execution_count": 21
        }
      ]
    },
    {
      "cell_type": "code",
      "metadata": {
        "id": "o6_TGR7kGSH5",
        "colab_type": "code",
        "colab": {}
      },
      "source": [
        "from chainer.datasets import split_dataset_random\n",
        "\n",
        "\"\"\"\n",
        "datasetのデータの70%をtrain_valにそれ以外をtestに。\n",
        "その70%をさらに分ける\n",
        "\n",
        "\"\"\"\n",
        "\n",
        "train_val, test = split_dataset_random(dataset, int(len(dataset) * 0.7), seed= 0)\n",
        "train,valid = split_dataset_random(train_val,int(len(train_val) * 0.7), seed = 0)"
      ],
      "execution_count": 0,
      "outputs": []
    },
    {
      "cell_type": "code",
      "metadata": {
        "id": "7Q9-cHZ3Ta96",
        "colab_type": "code",
        "outputId": "de3e5d09-4d81-4ef4-d633-96bef8b6f6c2",
        "colab": {
          "base_uri": "https://localhost:8080/",
          "height": 85
        }
      },
      "source": [
        "from chainer.iterators import SerialIterator\n",
        "\n",
        "train_iter = SerialIterator(train, batch_size=4, repeat=True, shuffle=True)\n",
        "\n",
        "minibatch = train_iter.next()\n",
        "\n",
        "minibatch"
      ],
      "execution_count": 23,
      "outputs": [
        {
          "output_type": "execute_result",
          "data": {
            "text/plain": [
              "[(array([7.2, 3.6, 6.1, 2.5], dtype=float32), 2),\n",
              " (array([4.4, 3.2, 1.3, 0.2], dtype=float32), 0),\n",
              " (array([5.7, 4.4, 1.5, 0.4], dtype=float32), 0),\n",
              " (array([5.8, 2.7, 5.1, 1.9], dtype=float32), 2)]"
            ]
          },
          "metadata": {
            "tags": []
          },
          "execution_count": 23
        }
      ]
    },
    {
      "cell_type": "code",
      "metadata": {
        "id": "2KMkA8Hr-PtX",
        "colab_type": "code",
        "colab": {}
      },
      "source": [
        "import chainer\n",
        "import chainer.links as L\n",
        "import chainer.functions as F\n",
        "\n",
        "\n",
        "class Net(chainer.Chain):\n",
        "  \n",
        "  def __init__(self, n_inputs=4, n_hidden=3, n_outputs=3):\n",
        "         super().__init__()\n",
        "         with self.init_scope():\n",
        "          self.l1 = L.Linear(n_inputs,n_hidden)\n",
        "          self.l2 = L.Linear(n_hidden,n_hidden)\n",
        "          self.l3 = L.Linear(n_hidden,n_outputs)\n",
        "          \n",
        "  def forward(self,x):\n",
        "         h = F.relu(self.l1(x))\n",
        "         h = F.relu(self.l2(h))\n",
        "         h = self.l3(h)\n",
        "          \n",
        "         return h\n",
        "        \n",
        "net = Net()"
      ],
      "execution_count": 0,
      "outputs": []
    },
    {
      "cell_type": "code",
      "metadata": {
        "id": "dB7Kf7NAQcNo",
        "colab_type": "code",
        "colab": {}
      },
      "source": [
        "net = Net(n_hidden= 100)"
      ],
      "execution_count": 0,
      "outputs": []
    },
    {
      "cell_type": "code",
      "metadata": {
        "id": "r-tf6qv-SMlN",
        "colab_type": "code",
        "colab": {}
      },
      "source": [
        "from chainer import optimizers\n",
        "from chainer.optimizer_hooks import WeightDecay\n",
        "\n",
        "optimizer = optimizers.SGD(lr= 0.001)\n",
        "optimizer.setup(net)\n",
        "\n",
        "for param in net.params():\n",
        "      if param.name != 'b':\n",
        "          param.update_rule.add_hook(WeightDecay(0.0001))"
      ],
      "execution_count": 0,
      "outputs": []
    },
    {
      "cell_type": "code",
      "metadata": {
        "id": "BRes2xuSUqkS",
        "colab_type": "code",
        "colab": {}
      },
      "source": [
        "from chainer import optimizers\n",
        "from chainer.optimizer_hooks import WeightDecay\n",
        "\n",
        "optimizer = optimizers.MomentumSGD(lr=0.001,momentum=0.9)\n",
        "optimizer.setup(net)\n",
        "\n",
        "for param in net.params():\n",
        "  if param.name != 'b':\n",
        "      param.update_rule.add_hook(WeightDecay(0.0001))"
      ],
      "execution_count": 0,
      "outputs": []
    },
    {
      "cell_type": "code",
      "metadata": {
        "id": "uMtb5q0aZP_3",
        "colab_type": "code",
        "outputId": "5a632bf1-2fd2-4880-a4fb-c839791065b7",
        "colab": {
          "base_uri": "https://localhost:8080/",
          "height": 867
        }
      },
      "source": [
        "gpu_id = 0\n",
        "n_batch = 64\n",
        "n_epochs = 50\n",
        "\n",
        "net.to_gpu(gpu_id)\n",
        "\n",
        "results_train, results_valid = {}, {}\n",
        "results_train['loss'], results_train['accuracy'] = [], []\n",
        "results_valid['loss'], results_valid['accuracy'] = [], []\n",
        "\n",
        "train_iter.reset() \n",
        "\n",
        "count = 1\n",
        "\n",
        "for epoch in range(n_epochs):\n",
        "      while True:\n",
        "              # ミニバッチの取得\n",
        "            train_batch = train_iter.next() \n",
        "            #データをGPUに転送するために、concat_examplesにgpu_idを渡す\n",
        "            x_train, t_train = chainer.dataset.concat_examples(train_batch,gpu_id)  \n",
        "            \n",
        "            #予測値と目的関数の計算\n",
        "            y_train = net(x_train)\n",
        "            loss_train = F.softmax_cross_entropy(y_train, t_train)\n",
        "            acc_train = F.accuracy(y_train, t_train)\n",
        "            \n",
        "            \n",
        "            #勾配の初期化と計算\n",
        "            net.cleargrads()\n",
        "            loss_train.backward()\n",
        "            \n",
        "            optimizer.update()\n",
        "            \n",
        "            count += 1\n",
        "            \n",
        "            \n",
        "            if train_iter.is_new_epoch:\n",
        "                \n",
        "                \n",
        "                with chainer.using_config('train',False), chainer.using_config('enable_backprop',False):\n",
        "                      x_valid, t_valid = chainer.dataset.concat_examples(valid, gpu_id)\n",
        "                      y_valid = net(x_valid)\n",
        "                      loss_valid = F.softmax_cross_entropy(y_valid, t_valid)\n",
        "                      acc_valid = F.accuracy(y_valid, t_valid)\n",
        "                      \n",
        "                loss_train.to_cpu()\n",
        "                loss_valid.to_cpu()\n",
        "                acc_train.to_cpu()\n",
        "                acc_valid.to_cpu()\n",
        "                \n",
        "                print('epoch: {}, iteration: {}, loss (train): {:.4f}, loss (valid): {:.4f}'\n",
        "                  'acc (train): {:.4f}, acc (valid): {:.4f}'.format(\n",
        "                epoch, count, loss_train.array.mean(), loss_valid.array.mean(),\n",
        "                  acc_train.array.mean(), acc_valid.array.mean()))\n",
        "                \n",
        "                \n",
        "                results_train['loss'].append(loss_train.array)\n",
        "                results_train['accuracy'].append(acc_train.array)\n",
        "                results_valid['loss'].append(loss_valid.array)\n",
        "                results_valid['accuracy'].append(acc_valid.array)\n",
        "                \n",
        "                \n",
        "                break"
      ],
      "execution_count": 28,
      "outputs": [
        {
          "output_type": "stream",
          "text": [
            "epoch: 0, iteration: 20, loss (train): 0.9107, loss (valid): 0.9845acc (train): 0.7500, acc (valid): 0.6562\n",
            "epoch: 1, iteration: 38, loss (train): 0.7925, loss (valid): 0.5497acc (train): 0.5000, acc (valid): 0.7188\n",
            "epoch: 2, iteration: 56, loss (train): 0.4996, loss (valid): 0.4395acc (train): 0.7500, acc (valid): 0.7188\n",
            "epoch: 3, iteration: 74, loss (train): 0.3002, loss (valid): 0.3946acc (train): 1.0000, acc (valid): 0.7812\n",
            "epoch: 4, iteration: 93, loss (train): 0.2562, loss (valid): 0.3593acc (train): 1.0000, acc (valid): 0.8125\n",
            "epoch: 5, iteration: 111, loss (train): 0.2444, loss (valid): 0.2660acc (train): 1.0000, acc (valid): 0.9688\n",
            "epoch: 6, iteration: 129, loss (train): 0.4793, loss (valid): 0.2492acc (train): 0.7500, acc (valid): 0.9375\n",
            "epoch: 7, iteration: 147, loss (train): 0.3467, loss (valid): 0.3064acc (train): 1.0000, acc (valid): 0.8438\n",
            "epoch: 8, iteration: 166, loss (train): 0.1248, loss (valid): 0.2873acc (train): 1.0000, acc (valid): 0.8438\n",
            "epoch: 9, iteration: 184, loss (train): 0.1375, loss (valid): 0.3120acc (train): 1.0000, acc (valid): 0.8438\n",
            "epoch: 10, iteration: 202, loss (train): 0.1486, loss (valid): 0.1784acc (train): 1.0000, acc (valid): 0.9688\n",
            "epoch: 11, iteration: 220, loss (train): 0.1013, loss (valid): 0.1711acc (train): 1.0000, acc (valid): 0.9688\n",
            "epoch: 12, iteration: 239, loss (train): 0.1956, loss (valid): 0.2504acc (train): 1.0000, acc (valid): 0.8750\n",
            "epoch: 13, iteration: 257, loss (train): 0.2684, loss (valid): 0.1527acc (train): 1.0000, acc (valid): 0.9688\n",
            "epoch: 14, iteration: 275, loss (train): 0.1191, loss (valid): 0.1785acc (train): 1.0000, acc (valid): 0.9375\n",
            "epoch: 15, iteration: 293, loss (train): 0.0653, loss (valid): 0.1402acc (train): 1.0000, acc (valid): 0.9688\n",
            "epoch: 16, iteration: 312, loss (train): 0.2780, loss (valid): 0.2777acc (train): 0.7500, acc (valid): 0.8438\n",
            "epoch: 17, iteration: 330, loss (train): 0.0624, loss (valid): 0.1346acc (train): 1.0000, acc (valid): 0.9688\n",
            "epoch: 18, iteration: 348, loss (train): 0.0230, loss (valid): 0.1537acc (train): 1.0000, acc (valid): 0.9688\n",
            "epoch: 19, iteration: 366, loss (train): 0.0328, loss (valid): 0.1269acc (train): 1.0000, acc (valid): 0.9688\n",
            "epoch: 20, iteration: 385, loss (train): 0.0244, loss (valid): 0.1789acc (train): 1.0000, acc (valid): 0.9375\n",
            "epoch: 21, iteration: 403, loss (train): 0.3244, loss (valid): 0.1707acc (train): 0.7500, acc (valid): 0.9688\n",
            "epoch: 22, iteration: 421, loss (train): 0.3247, loss (valid): 0.1387acc (train): 0.7500, acc (valid): 0.9688\n",
            "epoch: 23, iteration: 439, loss (train): 0.2185, loss (valid): 0.1660acc (train): 1.0000, acc (valid): 0.9688\n",
            "epoch: 24, iteration: 458, loss (train): 0.0324, loss (valid): 0.1544acc (train): 1.0000, acc (valid): 0.9688\n",
            "epoch: 25, iteration: 476, loss (train): 0.0521, loss (valid): 0.1191acc (train): 1.0000, acc (valid): 0.9688\n",
            "epoch: 26, iteration: 494, loss (train): 0.0596, loss (valid): 0.1176acc (train): 1.0000, acc (valid): 0.9688\n",
            "epoch: 27, iteration: 512, loss (train): 0.1443, loss (valid): 0.1155acc (train): 1.0000, acc (valid): 0.9688\n",
            "epoch: 28, iteration: 531, loss (train): 0.0580, loss (valid): 0.1946acc (train): 1.0000, acc (valid): 0.9375\n",
            "epoch: 29, iteration: 549, loss (train): 0.0230, loss (valid): 0.1468acc (train): 1.0000, acc (valid): 0.9688\n",
            "epoch: 30, iteration: 567, loss (train): 0.0154, loss (valid): 0.2126acc (train): 1.0000, acc (valid): 0.9375\n",
            "epoch: 31, iteration: 585, loss (train): 0.0145, loss (valid): 0.1348acc (train): 1.0000, acc (valid): 0.9688\n",
            "epoch: 32, iteration: 604, loss (train): 0.0410, loss (valid): 0.1114acc (train): 1.0000, acc (valid): 0.9688\n",
            "epoch: 33, iteration: 622, loss (train): 0.3283, loss (valid): 0.1330acc (train): 0.7500, acc (valid): 0.9688\n",
            "epoch: 34, iteration: 640, loss (train): 0.1621, loss (valid): 0.2201acc (train): 1.0000, acc (valid): 0.9375\n",
            "epoch: 35, iteration: 658, loss (train): 0.0043, loss (valid): 0.2111acc (train): 1.0000, acc (valid): 0.9375\n",
            "epoch: 36, iteration: 677, loss (train): 0.3787, loss (valid): 0.3443acc (train): 0.7500, acc (valid): 0.8750\n",
            "epoch: 37, iteration: 695, loss (train): 0.3976, loss (valid): 0.1642acc (train): 0.7500, acc (valid): 0.9688\n",
            "epoch: 38, iteration: 713, loss (train): 0.0141, loss (valid): 0.2145acc (train): 1.0000, acc (valid): 0.9375\n",
            "epoch: 39, iteration: 731, loss (train): 0.0077, loss (valid): 0.1481acc (train): 1.0000, acc (valid): 0.9688\n",
            "epoch: 40, iteration: 750, loss (train): 0.0215, loss (valid): 0.1412acc (train): 1.0000, acc (valid): 0.9688\n",
            "epoch: 41, iteration: 768, loss (train): 0.0036, loss (valid): 0.2165acc (train): 1.0000, acc (valid): 0.9375\n",
            "epoch: 42, iteration: 786, loss (train): 0.2213, loss (valid): 0.2376acc (train): 1.0000, acc (valid): 0.9375\n",
            "epoch: 43, iteration: 804, loss (train): 0.0180, loss (valid): 0.1372acc (train): 1.0000, acc (valid): 0.9688\n",
            "epoch: 44, iteration: 823, loss (train): 0.1770, loss (valid): 0.1638acc (train): 1.0000, acc (valid): 0.9688\n",
            "epoch: 45, iteration: 841, loss (train): 0.2291, loss (valid): 0.1368acc (train): 1.0000, acc (valid): 0.9688\n",
            "epoch: 46, iteration: 859, loss (train): 0.2795, loss (valid): 0.1155acc (train): 1.0000, acc (valid): 0.9688\n",
            "epoch: 47, iteration: 877, loss (train): 0.0165, loss (valid): 0.1657acc (train): 1.0000, acc (valid): 0.9688\n",
            "epoch: 48, iteration: 896, loss (train): 0.0196, loss (valid): 0.1757acc (train): 1.0000, acc (valid): 0.9688\n",
            "epoch: 49, iteration: 914, loss (train): 0.0089, loss (valid): 0.2729acc (train): 1.0000, acc (valid): 0.9375\n"
          ],
          "name": "stdout"
        }
      ]
    },
    {
      "cell_type": "code",
      "metadata": {
        "id": "xL2nWiJUalxH",
        "colab_type": "code",
        "outputId": "6e698cb1-9ca7-42d6-a0f6-5c13651e404a",
        "colab": {
          "base_uri": "https://localhost:8080/",
          "height": 521
        }
      },
      "source": [
        "import matplotlib.pyplot as plt\n",
        "\n",
        "\n",
        "plt.plot(results_train['loss'],label = 'train')\n",
        "plt.plot(results_valid['loss'],label = 'valid')\n",
        "plt.legend()\n",
        "plt.show()\n",
        "\n",
        "plt.plot(results_train['accuracy'],label = 'train')\n",
        "plt.plot(results_valid['accuracy'],label = 'valid')\n",
        "plt.legend()\n",
        "plt.show()"
      ],
      "execution_count": 29,
      "outputs": [
        {
          "output_type": "display_data",
          "data": {
            "image/png": "[encoded data removed]",
            "text/plain": [
              "<Figure size 432x288 with 1 Axes>"
            ]
          },
          "metadata": {
            "tags": []
          }
        },
        {
          "output_type": "display_data",
          "data": {
            "image/png": "[encoded data removed]",
            "text/plain": [
              "<Figure size 432x288 with 1 Axes>"
            ]
          },
          "metadata": {
            "tags": []
          }
        }
      ]
    },
    {
      "cell_type": "code",
      "metadata": {
        "id": "rJ0CZg0gal29",
        "colab_type": "code",
        "outputId": "f5f02616-8b18-4e67-d631-f30b132bc80c",
        "colab": {
          "base_uri": "https://localhost:8080/",
          "height": 51
        }
      },
      "source": [
        "x_test, t_test = chainer.dataset.concat_examples(test, device=gpu_id)\n",
        "with chainer.using_config('train',False), chainer.using_config('enable_backprop',False):\n",
        "       y_test = net(x_test)\n",
        "       loss_test = F.softmax_cross_entropy(y_test, t_test)\n",
        "       acc_test = F.accuracy(y_test, t_test)\n",
        "       \n",
        "print('test loss: {:.4f}'.format(loss_test.array.get()))\n",
        "print('test accuracy: {:.4f}'.format(acc_test.array.get()))      "
      ],
      "execution_count": 30,
      "outputs": [
        {
          "output_type": "stream",
          "text": [
            "test loss: 0.1961\n",
            "test accuracy: 0.9111\n"
          ],
          "name": "stdout"
        }
      ]
    },
    {
      "cell_type": "code",
      "metadata": {
        "id": "qNpWTTZXal8P",
        "colab_type": "code",
        "colab": {}
      },
      "source": [
        "from chainer.serializers import save_npz\n",
        "\n",
        "net.to_cpu()\n",
        "save_npz('net.npz', net)"
      ],
      "execution_count": 0,
      "outputs": []
    },
    {
      "cell_type": "code",
      "metadata": {
        "id": "gqKSbWRcamDf",
        "colab_type": "code",
        "colab": {
          "base_uri": "https://localhost:8080/",
          "height": 119
        },
        "outputId": "b5bd2da9-5a7b-40d4-b679-9d185c57270f"
      },
      "source": [
        "import numpy as np\n",
        "\n",
        "params = np.load('net.npz')\n",
        "\n",
        "\n",
        "for key, param in params.items():\n",
        "      print(key, ':\\t',param.shape)"
      ],
      "execution_count": 33,
      "outputs": [
        {
          "output_type": "stream",
          "text": [
            "l3/W :\t (3, 100)\n",
            "l3/b :\t (3,)\n",
            "l2/W :\t (100, 100)\n",
            "l2/b :\t (100,)\n",
            "l1/W :\t (100, 4)\n",
            "l1/b :\t (100,)\n"
          ],
          "name": "stdout"
        }
      ]
    },
    {
      "cell_type": "code",
      "metadata": {
        "id": "5sAmGcvuamJy",
        "colab_type": "code",
        "colab": {}
      },
      "source": [
        ""
      ],
      "execution_count": 0,
      "outputs": []
    }
  ]
}