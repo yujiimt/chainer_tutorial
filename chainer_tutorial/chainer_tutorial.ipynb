{
  "nbformat": 4,
  "nbformat_minor": 0,
  "metadata": {
    "colab": {
      "name": "chainer_tutorial.ipynb",
      "version": "0.3.2",
      "provenance": [],
      "include_colab_link": true
    },
    "kernelspec": {
      "name": "python3",
      "display_name": "Python 3"
    },
    "accelerator": "GPU"
  },
  "cells": [
    {
      "cell_type": "markdown",
      "metadata": {
        "id": "view-in-github",
        "colab_type": "text"
      },
      "source": [
        "<a href=\"https://colab.research.google.com/github/yujiimt/chainer_tutorial/blob/master/chainer_tutorial/chainer_tutorial.ipynb\" target=\"_parent\"><img src=\"https://colab.research.google.com/assets/colab-badge.svg\" alt=\"Open In Colab\"/></a>"
      ]
    },
    {
      "cell_type": "code",
      "metadata": {
        "id": "ptMXgpo8OjYa",
        "colab_type": "code",
        "colab": {}
      },
      "source": [
        "import chainer \n",
        "import numpy as np\n",
        "from sklearn.datasets import load_iris\n",
        "from sklearn.model_selection import train_test_split"
      ],
      "execution_count": 0,
      "outputs": []
    },
    {
      "cell_type": "code",
      "metadata": {
        "id": "oFYvlBmeYcg8",
        "colab_type": "code",
        "outputId": "d2b0e015-b49a-4bed-cdff-fccfc6f7f108",
        "colab": {
          "base_uri": "https://localhost:8080/",
          "height": 51
        }
      },
      "source": [
        "x, t = load_iris(return_X_y = True)\n",
        "\n",
        "print('x',x.shape)\n",
        "print('t',t.shape)"
      ],
      "execution_count": 2,
      "outputs": [
        {
          "output_type": "stream",
          "text": [
            "x (150, 4)\n",
            "t (150,)\n"
          ],
          "name": "stdout"
        }
      ]
    },
    {
      "cell_type": "code",
      "metadata": {
        "id": "We4VGZrHZHOS",
        "colab_type": "code",
        "colab": {}
      },
      "source": [
        "\"\"\"\n",
        "\n",
        "chainerでは入力値のデータ型はnumpy.float32,\n",
        "分類問題は、目標値のデータ型は、numpy.int32である必要がある\n",
        "\n",
        "\"\"\"\n",
        "\n",
        "\n",
        "x = x.astype('float32')\n",
        "t = t.astype('int32')"
      ],
      "execution_count": 0,
      "outputs": []
    },
    {
      "cell_type": "code",
      "metadata": {
        "id": "_MhXvghRZ0oB",
        "colab_type": "code",
        "colab": {}
      },
      "source": [
        "x_train_val, x_test, t_train_val, t_test = train_test_split(x, t, test_size=0.3, random_state=0)\n",
        "x_train, x_val, t_train, t_val = train_test_split(x_train_val, t_train_val, test_size=0.3, random_state=0)"
      ],
      "execution_count": 0,
      "outputs": []
    },
    {
      "cell_type": "code",
      "metadata": {
        "id": "j-WSelWtfcv1",
        "colab_type": "code",
        "colab": {}
      },
      "source": [
        "#パラメーターを持つ関数(層)：リンク\n",
        "import chainer.links as L \n",
        "#パラメーターを持たない関数(層):ファンクション\n",
        "import chainer.functions as F"
      ],
      "execution_count": 0,
      "outputs": []
    },
    {
      "cell_type": "code",
      "metadata": {
        "id": "MzcvpnGz8s43",
        "colab_type": "code",
        "colab": {}
      },
      "source": [
        "#sequential によるネットワーク定義\n",
        "#入力次元数が3,出力次元数が2の全結合層\n",
        "l = L.Linear(3,2)"
      ],
      "execution_count": 0,
      "outputs": []
    },
    {
      "cell_type": "code",
      "metadata": {
        "id": "AeXyG2Yk8tF8",
        "colab_type": "code",
        "colab": {}
      },
      "source": [
        "from chainer import Sequential\n",
        "\n",
        "#net としてインスタンス化\n",
        "\n",
        "n_inputs = 4\n",
        "n_hidden = 10\n",
        "n_outputs = 3\n",
        "\n",
        "net = Sequential(\n",
        "       L.Linear(n_inputs,n_hidden),F.relu,\n",
        "       L.Linear(n_hidden,n_hidden),F.relu,\n",
        "       L.Linear(n_hidden,n_outputs)\n",
        ")"
      ],
      "execution_count": 0,
      "outputs": []
    },
    {
      "cell_type": "code",
      "metadata": {
        "id": "rpDesePq8tN6",
        "colab_type": "code",
        "outputId": "4fd13262-73e1-4d23-cf40-2d1a682d35f3",
        "colab": {
          "base_uri": "https://localhost:8080/",
          "height": 34
        }
      },
      "source": [
        "#最適化手法を確率勾配降下方にする\n",
        "optimizer = chainer.optimizers.SGD(lr=0.01)\n",
        "#netを選択する\n",
        "optimizer.setup(net)"
      ],
      "execution_count": 17,
      "outputs": [
        {
          "output_type": "execute_result",
          "data": {
            "text/plain": [
              "<chainer.optimizers.sgd.SGD at 0x7ff84bfe1b38>"
            ]
          },
          "metadata": {
            "tags": []
          },
          "execution_count": 17
        }
      ]
    },
    {
      "cell_type": "code",
      "metadata": {
        "id": "vLAF6OFN_T6V",
        "colab_type": "code",
        "outputId": "ed230490-aa27-4eae-dee5-d42944de00f2",
        "colab": {
          "base_uri": "https://localhost:8080/",
          "height": 527
        }
      },
      "source": [
        "#ネットワークの訓練\n",
        "n_epochs = 30\n",
        "n_batchsize = 16\n",
        "\n",
        "\"\"\"\"\n",
        "ネットワークは以下の処理を繰り替えす\n",
        "\n",
        "------------------------\n",
        "1.訓練用のバッチを準備\n",
        "2.予測値を計算し、目的関数を適用(順伝播)\n",
        "3.勾配を計算(逆伝播)\n",
        "4パラメーターを更新\n",
        "\"\"\"\n",
        "\n",
        "\n",
        "iteration = 0\n",
        "\n",
        "#ログの保存用\n",
        "results_train  = {\n",
        "        'loss': [],\n",
        "        'accuracy': []\n",
        "}\n",
        "\n",
        "results_valid = {\n",
        "        'loss': [],\n",
        "        'accuracy': []\n",
        "}\n",
        "\n",
        "for epoch in range(n_epochs):\n",
        "      \n",
        "      #データセット順番に並べ替えた順番を取得\n",
        "      order = np.random.permutation(range(len(x_train)))\n",
        "          \n",
        "      #各バッチ毎の目的関数を出力と分類精度の保存用\n",
        "      loss_list = []\n",
        "      accuracy_list = []\n",
        "      \n",
        "      for i in range(0, len(order), n_batchsize):\n",
        "            #　バッチを準備\n",
        "            \n",
        "            index = order[i: i+n_batchsize]\n",
        "            x_train_batch = x_train[index,:]\n",
        "            t_train_batch = t_train[index]\n",
        "            \n",
        "            \n",
        "            # 予測値を出力\n",
        "            y_train_batch = net(x_train_batch)\n",
        "            \n",
        "            \n",
        "            #目的関数を適用し、分類精度を計算\n",
        "            loss_train_batch = F.softmax_cross_entropy(y_train_batch, t_train_batch)\n",
        "            accuracy_train_batch = F.accuracy(y_train_batch, t_train_batch)\n",
        "            \n",
        "            loss_list.append(loss_train_batch.array)\n",
        "            accuracy_list.append(accuracy_train_batch.array)\n",
        "            \n",
        "            #勾配のリセットと勾配の計算\n",
        "            net.cleargrads()\n",
        "            loss_train_batch.backward()\n",
        "            \n",
        "            #パラメーターの更新\n",
        "            optimizer.update()\n",
        "            \n",
        "            \n",
        "            #カウントアップ\n",
        "            iteration += 1\n",
        "          \n",
        "      #訓練データに対する目的関数の出力と分類精度を集計\n",
        "      loss_train = np.mean(loss_list)\n",
        "      accuracy_train = np.mean(accuracy_list)\n",
        "      \n",
        "      \n",
        "      # 1エポック終えたら、検証データで評価\n",
        "      # 検証データで予測値を出力\n",
        "      with chainer.using_config('train',False), chainer.using_config('enable_backprop',False):\n",
        "            y_val = net(x_val)\n",
        "          \n",
        "          \n",
        "      # 目的関数を適用し、分類精度を計算\n",
        "      loss_val = F.softmax_cross_entropy(y_val, t_val)\n",
        "      accuracy_val = F.accuracy(y_val, t_val)\n",
        "      \n",
        "      \n",
        "      \n",
        "     #結果の表示\n",
        "      print('epoch: {}, iteration: {}, loss (train): {:.4f}, loss (valid): {:.4f}'.format(\n",
        "        epoch, iteration, loss_train, loss_val.array))      \n",
        "      \n",
        "      \n",
        "      #ログを保存\n",
        "      results_train['loss']  .append(loss_train)\n",
        "      results_train['accuracy']  .append(accuracy_train)\n",
        "      results_valid['loss']  .append(loss_val.array)\n",
        "      results_valid['accuracy']  .append( accuracy_val.array)"
      ],
      "execution_count": 18,
      "outputs": [
        {
          "output_type": "stream",
          "text": [
            "epoch: 0, iteration: 5, loss (train): 1.0533, loss (valid): 0.9873\n",
            "epoch: 1, iteration: 10, loss (train): 0.9836, loss (valid): 0.9356\n",
            "epoch: 2, iteration: 15, loss (train): 0.9239, loss (valid): 0.8857\n",
            "epoch: 3, iteration: 20, loss (train): 0.8717, loss (valid): 0.8662\n",
            "epoch: 4, iteration: 25, loss (train): 0.8466, loss (valid): 0.8294\n",
            "epoch: 5, iteration: 30, loss (train): 0.8009, loss (valid): 0.8142\n",
            "epoch: 6, iteration: 35, loss (train): 0.7834, loss (valid): 0.7545\n",
            "epoch: 7, iteration: 40, loss (train): 0.7614, loss (valid): 0.7324\n",
            "epoch: 8, iteration: 45, loss (train): 0.7444, loss (valid): 0.7002\n",
            "epoch: 9, iteration: 50, loss (train): 0.7057, loss (valid): 0.6633\n",
            "epoch: 10, iteration: 55, loss (train): 0.6874, loss (valid): 0.6440\n",
            "epoch: 11, iteration: 60, loss (train): 0.6565, loss (valid): 0.6141\n",
            "epoch: 12, iteration: 65, loss (train): 0.6402, loss (valid): 0.6003\n",
            "epoch: 13, iteration: 70, loss (train): 0.6315, loss (valid): 0.5648\n",
            "epoch: 14, iteration: 75, loss (train): 0.6026, loss (valid): 0.5457\n",
            "epoch: 15, iteration: 80, loss (train): 0.5780, loss (valid): 0.5262\n",
            "epoch: 16, iteration: 85, loss (train): 0.5581, loss (valid): 0.5029\n",
            "epoch: 17, iteration: 90, loss (train): 0.5441, loss (valid): 0.4847\n",
            "epoch: 18, iteration: 95, loss (train): 0.5290, loss (valid): 0.4680\n",
            "epoch: 19, iteration: 100, loss (train): 0.5127, loss (valid): 0.4522\n",
            "epoch: 20, iteration: 105, loss (train): 0.4989, loss (valid): 0.4349\n",
            "epoch: 21, iteration: 110, loss (train): 0.4862, loss (valid): 0.4260\n",
            "epoch: 22, iteration: 115, loss (train): 0.4732, loss (valid): 0.4074\n",
            "epoch: 23, iteration: 120, loss (train): 0.4522, loss (valid): 0.3991\n",
            "epoch: 24, iteration: 125, loss (train): 0.4409, loss (valid): 0.3996\n",
            "epoch: 25, iteration: 130, loss (train): 0.4487, loss (valid): 0.3869\n",
            "epoch: 26, iteration: 135, loss (train): 0.4094, loss (valid): 0.3669\n",
            "epoch: 27, iteration: 140, loss (train): 0.4195, loss (valid): 0.3637\n",
            "epoch: 28, iteration: 145, loss (train): 0.3916, loss (valid): 0.3628\n",
            "epoch: 29, iteration: 150, loss (train): 0.3958, loss (valid): 0.3413\n"
          ],
          "name": "stdout"
        }
      ]
    },
    {
      "cell_type": "code",
      "metadata": {
        "id": "-Xis7g-w_T83",
        "colab_type": "code",
        "colab": {
          "base_uri": "https://localhost:8080/",
          "height": 286
        },
        "outputId": "92bac90a-be82-4c0b-c654-15def477a965"
      },
      "source": [
        "%matplotlib inline\n",
        "import matplotlib.pyplot as plt\n",
        "\n",
        "\n",
        "\n",
        "plt.plot(results_train['loss'],label='train')\n",
        "plt.plot(results_valid['loss'],label='valid')\n",
        "plt.legend()"
      ],
      "execution_count": 19,
      "outputs": [
        {
          "output_type": "execute_result",
          "data": {
            "text/plain": [
              "<matplotlib.legend.Legend at 0x7ff84968f630>"
            ]
          },
          "metadata": {
            "tags": []
          },
          "execution_count": 19
        },
        {
          "output_type": "display_data",
          "data": {
            "image/png": "[encoded data removed]",
            "text/plain": [
              "<Figure size 432x288 with 1 Axes>"
            ]
          },
          "metadata": {
            "tags": []
          }
        }
      ]
    },
    {
      "cell_type": "code",
      "metadata": {
        "id": "kaTr0BSq_T_k",
        "colab_type": "code",
        "colab": {
          "base_uri": "https://localhost:8080/",
          "height": 286
        },
        "outputId": "34822d38-9bf4-4d15-eeb6-9390a7a95e35"
      },
      "source": [
        "plt.plot(results_train['accuracy'],label='train')\n",
        "plt.plot(results_valid['accuracy'],label='valid')\n",
        "plt.legend()"
      ],
      "execution_count": 20,
      "outputs": [
        {
          "output_type": "execute_result",
          "data": {
            "text/plain": [
              "<matplotlib.legend.Legend at 0x7ff8495f8dd8>"
            ]
          },
          "metadata": {
            "tags": []
          },
          "execution_count": 20
        },
        {
          "output_type": "display_data",
          "data": {
            "image/png": "[encoded data removed]",
            "text/plain": [
              "<Figure size 432x288 with 1 Axes>"
            ]
          },
          "metadata": {
            "tags": []
          }
        }
      ]
    },
    {
      "cell_type": "code",
      "metadata": {
        "id": "rdbQ7yI4_UCN",
        "colab_type": "code",
        "colab": {}
      },
      "source": [
        "with chainer.using_config('train',False),chainer.using_config('enable_backprop',False):\n",
        "  y_test = net(x_test)"
      ],
      "execution_count": 0,
      "outputs": []
    },
    {
      "cell_type": "code",
      "metadata": {
        "id": "97ljLaZF9u_r",
        "colab_type": "code",
        "colab": {
          "base_uri": "https://localhost:8080/",
          "height": 34
        },
        "outputId": "8f927948-d448-41a1-ac89-5b89dd30022a"
      },
      "source": [
        "accuracy_test = F.accuracy(y_test,t_test)\n",
        "accuracy_test.array"
      ],
      "execution_count": 22,
      "outputs": [
        {
          "output_type": "execute_result",
          "data": {
            "text/plain": [
              "array(0.84444445, dtype=float32)"
            ]
          },
          "metadata": {
            "tags": []
          },
          "execution_count": 22
        }
      ]
    },
    {
      "cell_type": "code",
      "metadata": {
        "id": "gS15Wu429vFL",
        "colab_type": "code",
        "colab": {
          "base_uri": "https://localhost:8080/",
          "height": 34
        },
        "outputId": "532ebaa1-ed41-4299-d50f-c1b4c6bba027"
      },
      "source": [
        "chainer.serializers.save_npz('my_iris.net',net)\n",
        "! ls"
      ],
      "execution_count": 23,
      "outputs": [
        {
          "output_type": "stream",
          "text": [
            "my_iris.net  sample_data\n"
          ],
          "name": "stdout"
        }
      ]
    },
    {
      "cell_type": "code",
      "metadata": {
        "id": "fXAFjRJ59vIB",
        "colab_type": "code",
        "colab": {}
      },
      "source": [
        "loaded_net = Sequential(\n",
        "    L.Linear(n_inputs,n_hidden),F.relu,\n",
        "    L.Linear(n_hidden,n_hidden),F.relu,\n",
        "    L.Linear(n_hidden,n_outputs)\n",
        ")"
      ],
      "execution_count": 0,
      "outputs": []
    },
    {
      "cell_type": "code",
      "metadata": {
        "id": "JZGSKwpD9vLG",
        "colab_type": "code",
        "colab": {}
      },
      "source": [
        "chainer.serializers.load_npz('/content/my_iris.net',loaded_net)"
      ],
      "execution_count": 0,
      "outputs": []
    },
    {
      "cell_type": "code",
      "metadata": {
        "id": "-mXsmtwfAMTV",
        "colab_type": "code",
        "colab": {}
      },
      "source": [
        "with chainer.using_config('train',False),chainer.using_config('enable_backprop',False):\n",
        "  y_test = loaded_net(x_test)"
      ],
      "execution_count": 0,
      "outputs": []
    },
    {
      "cell_type": "code",
      "metadata": {
        "id": "Jk-LxRFgAMef",
        "colab_type": "code",
        "colab": {
          "base_uri": "https://localhost:8080/",
          "height": 34
        },
        "outputId": "b305f2a0-a8c7-4b0f-a125-f57e3d36376f"
      },
      "source": [
        "np.argmax(y_test[0,:].array)"
      ],
      "execution_count": 39,
      "outputs": [
        {
          "output_type": "execute_result",
          "data": {
            "text/plain": [
              "2"
            ]
          },
          "metadata": {
            "tags": []
          },
          "execution_count": 39
        }
      ]
    },
    {
      "cell_type": "code",
      "metadata": {
        "id": "YCVw05_uAMv1",
        "colab_type": "code",
        "colab": {}
      },
      "source": [
        ""
      ],
      "execution_count": 0,
      "outputs": []
    },
    {
      "cell_type": "code",
      "metadata": {
        "id": "E4DQIw6FAM4Y",
        "colab_type": "code",
        "colab": {}
      },
      "source": [
        ""
      ],
      "execution_count": 0,
      "outputs": []
    }
  ]
}